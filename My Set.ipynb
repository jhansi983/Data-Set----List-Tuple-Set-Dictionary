{
 "cells": [
  {
   "cell_type": "code",
   "execution_count": null,
   "id": "867de71f-a4af-458c-988f-e9062414f068",
   "metadata": {},
   "outputs": [],
   "source": [
    "# Set --- is unordered collection of unique elements\n",
    "#Unordered: Sets do not keep elements in a specific order.\n",
    "#Immutable Elements: Elements in a set must be immutable (e.g., numbers, strings, or tuples).\n",
    "#Unique Elements: Duplicate values are automatically removed"
   ]
  },
  {
   "cell_type": "code",
   "execution_count": 5,
   "id": "8f71a272-a621-4a9f-ad0d-bab68ea5ffaa",
   "metadata": {
    "panel-layout": {
     "height": 0,
     "visible": true,
     "width": 100
    }
   },
   "outputs": [
    {
     "name": "stdout",
     "output_type": "stream",
     "text": [
      "{}\n",
      "set()\n"
     ]
    }
   ],
   "source": [
    "# Creating a set\n",
    "s1={} # Default set it represent Dictionary not set\n",
    "s1\n",
    "s2=set() # Set is created with constructer\n",
    "print(s1)\n",
    "print(s2)"
   ]
  },
  {
   "cell_type": "code",
   "execution_count": 15,
   "id": "80a63a05-cf5a-44d0-900e-534ed6c3228f",
   "metadata": {},
   "outputs": [
    {
     "name": "stdout",
     "output_type": "stream",
     "text": [
      "{True, 'one', 5.6, (1+2j), 10}\n"
     ]
    }
   ],
   "source": [
    "# set with parameters\n",
    "s1 = set()\n",
    "s1 = {10, 5.6, \"one\", True, 1+2j}\n",
    "print(s1)"
   ]
  },
  {
   "cell_type": "code",
   "execution_count": 4,
   "id": "f9947187-a6ac-4396-b6d0-be4e8a19ec4b",
   "metadata": {
    "panel-layout": {
     "height": 0,
     "visible": true,
     "width": 100
    }
   },
   "outputs": [
    {
     "name": "stdout",
     "output_type": "stream",
     "text": [
      "0\n",
      "<class 'dict'>\n",
      "<class 'set'>\n",
      "1576758684800\n"
     ]
    }
   ],
   "source": [
    "# finding length, type and id of the list\n",
    "print(len(s1))\n",
    "print(type(s1))\n",
    "print(type(s2))\n",
    "print(id(s1))"
   ]
  },
  {
   "cell_type": "code",
   "execution_count": 7,
   "id": "7a7ca793-974d-4eb5-9a22-cbaa43508801",
   "metadata": {},
   "outputs": [
    {
     "data": {
      "text/plain": [
       "{10, 20, 30, 40}"
      ]
     },
     "execution_count": 7,
     "metadata": {},
     "output_type": "execute_result"
    }
   ],
   "source": [
    "# Adding Element to the set\n",
    "# add() --- to add a single element \n",
    "s2.add(10)\n",
    "s2.add(20)\n",
    "s2.add(30)\n",
    "s2.add(40)\n",
    "s2.add(10) # set is unique -- duplicate values are not ellowed\n",
    "s2.add(20)  # set only store unique values\n",
    "s2"
   ]
  },
  {
   "cell_type": "code",
   "execution_count": 17,
   "id": "6aa9d2c6-48c2-46eb-9f55-21341fd4d86e",
   "metadata": {},
   "outputs": [
    {
     "data": {
      "text/plain": [
       "{(1+2j), 10, 20, 30, 40, 5.6, True, 'one'}"
      ]
     },
     "execution_count": 17,
     "metadata": {},
     "output_type": "execute_result"
    }
   ],
   "source": [
    "#ubdating --- set with multipule elements \n",
    "#Use .update() to add multiple elements from another iterable (like a list).\n",
    "s1.update(s2)\n",
    "s1 # s1 and s2 having 10, duplicates are not allow in set it should print only one 10"
   ]
  },
  {
   "cell_type": "code",
   "execution_count": null,
   "id": "b00fb9ca-fa2a-47d2-ae5c-1ea74f989a75",
   "metadata": {},
   "outputs": [],
   "source": [
    "#Removing Elements form set"
   ]
  },
  {
   "cell_type": "code",
   "execution_count": 25,
   "id": "106f2243-54eb-4c1f-bead-f3582e9d8a4d",
   "metadata": {},
   "outputs": [
    {
     "name": "stdout",
     "output_type": "stream",
     "text": [
      "{True, 5.6, (1+2j), 40, 'one', 20, 30}\n"
     ]
    },
    {
     "ename": "KeyError",
     "evalue": "89",
     "output_type": "error",
     "traceback": [
      "\u001b[1;31m---------------------------------------------------------------------------\u001b[0m",
      "\u001b[1;31mKeyError\u001b[0m                                  Traceback (most recent call last)",
      "Cell \u001b[1;32mIn[25], line 7\u001b[0m\n\u001b[0;32m      5\u001b[0m s3\u001b[38;5;241m.\u001b[39mremove(\u001b[38;5;241m10\u001b[39m) \u001b[38;5;66;03m# once the value is deleted when ever you call the program set it show that set only\u001b[39;00m\n\u001b[0;32m      6\u001b[0m \u001b[38;5;28mprint\u001b[39m(s3)\n\u001b[1;32m----> 7\u001b[0m s3\u001b[38;5;241m.\u001b[39mremove(\u001b[38;5;241m89\u001b[39m)\n\u001b[0;32m      8\u001b[0m \u001b[38;5;28mprint\u001b[39m(s3)\n",
      "\u001b[1;31mKeyError\u001b[0m: 89"
     ]
    }
   ],
   "source": [
    "# Remove() --- removes the specified element from the set.\n",
    "# raises a KeyError if the element is not found.\n",
    "s3= set()\n",
    "s3={(1+2j), 10, 20, 30, 40, 5.6, True, 'one'}\n",
    "s3.remove(10) # once the value is deleted when ever you call the program set it show that set only\n",
    "print(s3)\n",
    "s3.remove(89)\n",
    "print(s3) # it shows an key error --- when the value is not there in the set"
   ]
  },
  {
   "cell_type": "code",
   "execution_count": 26,
   "id": "78b1883a-8906-44cd-8e8d-967d1edf2e99",
   "metadata": {},
   "outputs": [
    {
     "name": "stdout",
     "output_type": "stream",
     "text": [
      "{True, 5.6, (1+2j), 20, 30}\n",
      "{True, 5.6, (1+2j), 20, 30}\n"
     ]
    }
   ],
   "source": [
    "# discard() --- removes the specified element from the set.\n",
    "# Does not raise an error if the element is not found in the set; it simply does nothing.\n",
    "s3.discard(40)\n",
    "s3.discard('one')\n",
    "print(s3) # it discard the elements from the set\n",
    "s3.discard(67) # if the element is not found in the set also not given error\n",
    "print(s3)"
   ]
  },
  {
   "cell_type": "code",
   "execution_count": 36,
   "id": "7efcc0f4-3fc3-4a51-bed3-3f79fcbe179b",
   "metadata": {},
   "outputs": [
    {
     "ename": "KeyError",
     "evalue": "'pop from an empty set'",
     "output_type": "error",
     "traceback": [
      "\u001b[1;31m---------------------------------------------------------------------------\u001b[0m",
      "\u001b[1;31mKeyError\u001b[0m                                  Traceback (most recent call last)",
      "Cell \u001b[1;32mIn[36], line 6\u001b[0m\n\u001b[0;32m      4\u001b[0m s1\u001b[38;5;241m.\u001b[39mpop() \u001b[38;5;66;03m# This could be any element, as sets do not maintain order\u001b[39;00m\n\u001b[0;32m      5\u001b[0m se1\u001b[38;5;241m=\u001b[39m \u001b[38;5;28mset\u001b[39m()\n\u001b[1;32m----> 6\u001b[0m se1\u001b[38;5;241m.\u001b[39mpop()\n",
      "\u001b[1;31mKeyError\u001b[0m: 'pop from an empty set'"
     ]
    }
   ],
   "source": [
    "# pop() removes and returns an arbitrary element.\n",
    "# in sets pop methods canot give any value or index valuues (set is un ordered)\n",
    "s1={100,20,52,86,10,76,20}\n",
    "s1.pop() # This could be any element, as sets do not maintain order\n",
    "se1= set()\n",
    "se1.pop() # if the set is empty it can give key error"
   ]
  },
  {
   "cell_type": "code",
   "execution_count": null,
   "id": "6a8cd9b0-964f-4b10-bc5d-75994cfc4f47",
   "metadata": {},
   "outputs": [],
   "source": [
    "# Set Operations for Mathematical Set Theory"
   ]
  },
  {
   "cell_type": "code",
   "execution_count": 37,
   "id": "27fb375e-4653-4e0f-a043-3ef3e135316e",
   "metadata": {},
   "outputs": [
    {
     "data": {
      "text/plain": [
       "{1, 2, 3, 4, 5}"
      ]
     },
     "execution_count": 37,
     "metadata": {},
     "output_type": "execute_result"
    }
   ],
   "source": [
    "# Union (| or .union()): Combines all unique elements from two sets\n",
    "s1 = {1, 2, 3}\n",
    "s2 = {3, 4, 5}\n",
    "s1|s2"
   ]
  },
  {
   "cell_type": "code",
   "execution_count": 38,
   "id": "2260c887-7052-4983-958d-87a9c375b62d",
   "metadata": {},
   "outputs": [
    {
     "data": {
      "text/plain": [
       "{3}"
      ]
     },
     "execution_count": 38,
     "metadata": {},
     "output_type": "execute_result"
    }
   ],
   "source": [
    "# Intersection (& or .intersection()): Finds elements common to both sets\n",
    "s1&s2"
   ]
  },
  {
   "cell_type": "code",
   "execution_count": 44,
   "id": "267a448c-b086-4779-841c-f8f6f3e0fb54",
   "metadata": {},
   "outputs": [
    {
     "data": {
      "text/plain": [
       "{1, 2}"
      ]
     },
     "execution_count": 44,
     "metadata": {},
     "output_type": "execute_result"
    }
   ],
   "source": [
    "# Difference (- or .difference()): Finds elements in one set but not the other.\n",
    "s1.difference(s2) "
   ]
  },
  {
   "cell_type": "code",
   "execution_count": 45,
   "id": "7c328a83-37cf-44e0-94b4-f50a19887ad1",
   "metadata": {},
   "outputs": [
    {
     "data": {
      "text/plain": [
       "{1, 2, 4, 5}"
      ]
     },
     "execution_count": 45,
     "metadata": {},
     "output_type": "execute_result"
    }
   ],
   "source": [
    "# Symmetric Difference (^ or .symmetric_difference()): Finds elements in either of the sets, but not both.\n",
    "s1.symmetric_difference(s2)"
   ]
  },
  {
   "cell_type": "code",
   "execution_count": 48,
   "id": "01c81331-d3a8-4511-96e2-4cf756c19da7",
   "metadata": {},
   "outputs": [
    {
     "name": "stdout",
     "output_type": "stream",
     "text": [
      "{1, 2}\n"
     ]
    }
   ],
   "source": [
    "# Difference_update ---- here elements in one set but not the other and ubdate the set values\n",
    "# when we call the that set it can give ubdates set only\n",
    "s1.difference_update(s2)\n",
    "print(s1) #ubdating the s1 set values"
   ]
  },
  {
   "cell_type": "code",
   "execution_count": 50,
   "id": "d5f546e5-1423-4799-99d9-c130c67c75aa",
   "metadata": {},
   "outputs": [
    {
     "name": "stdout",
     "output_type": "stream",
     "text": [
      "{1, 2, 4, 5}\n"
     ]
    }
   ],
   "source": [
    "# Symmetric Difference (^ or .symmetric_difference()): Finds elements in either of the sets, but not both. ubdate the set values\n",
    "# when we call the that set it can give ubdates set only\n",
    "s1 = {1, 2, 3}\n",
    "s2 = {3, 4, 5}\n",
    "s1.symmetric_difference_update(s2)\n",
    "print(s1) #ubdating the s1 set values"
   ]
  },
  {
   "cell_type": "code",
   "execution_count": 52,
   "id": "a34dad9b-4766-4264-84e5-e1ea496ad098",
   "metadata": {},
   "outputs": [],
   "source": [
    "# Subset and Superset Operations"
   ]
  },
  {
   "cell_type": "code",
   "execution_count": 56,
   "id": "ec4f5f71-bc27-4f76-acc0-59fc12c1d851",
   "metadata": {},
   "outputs": [
    {
     "name": "stdout",
     "output_type": "stream",
     "text": [
      "False\n",
      "True\n"
     ]
    }
   ],
   "source": [
    "# Subset (<= or .issubset()): Checks if all elements of one set are in another set\n",
    "# Returns True if all elements of the set are in the other set (set subset).\n",
    "s1 = {1, 2, 3}\n",
    "s2 = {3, 4, 5}\n",
    "print(s1.issubset(s2))\n",
    "\n",
    "s3 = {1, 2}\n",
    "s4 = {1, 2, 3, 4}\n",
    "print(s3.issubset(s4))"
   ]
  },
  {
   "cell_type": "code",
   "execution_count": null,
   "id": "cbbaa38c-4b38-481b-974d-dd83c6150d62",
   "metadata": {},
   "outputs": [],
   "source": [
    "# Subset (<= or .issuperset()): Checks if one set contains all elements of another set.\n",
    "# Returns True if the set contains all elements of the other set (set superset).\n",
    "s1 = {1, 2, 3}\n",
    "s2 = {3, 4, 5}\n",
    "print(s1.issubset(s2))\n",
    "\n",
    "s3 = {1, 2}\n",
    "s4 = {1, 2, 3, 4}\n",
    "print(s3.issubset(s4))"
   ]
  },
  {
   "cell_type": "code",
   "execution_count": 59,
   "id": "bd1b11b4-d7df-4fea-82f6-2889f3f2e7ee",
   "metadata": {},
   "outputs": [
    {
     "name": "stdout",
     "output_type": "stream",
     "text": [
      "False\n",
      "True\n"
     ]
    }
   ],
   "source": [
    "# Superset (>= or .issuperset()): Checks if one set contains all elements of another set\n",
    "# Returns True if the set contains all elements of the other set (set superset).\n",
    "s1 = {1, 2, 3}\n",
    "s2 = {3, 4, 5}\n",
    "print(s1.issuperset(s2))\n",
    "\n",
    "s3 = {1, 2, 3, 4}\n",
    "s4 = {1, 2}\n",
    "print(s3.issuperset(s4))"
   ]
  },
  {
   "cell_type": "code",
   "execution_count": 61,
   "id": "4890c5bd-7846-44ee-b01b-e1bc1b4368dd",
   "metadata": {},
   "outputs": [
    {
     "data": {
      "text/plain": [
       "True"
      ]
     },
     "execution_count": 61,
     "metadata": {},
     "output_type": "execute_result"
    }
   ],
   "source": [
    "# .isdisjoint(): Checks if two sets have no elements in common\n",
    "s1 = {1, 2}\n",
    "s2 = {3, 4, 5}\n",
    "s1.isdisjoint(s2)"
   ]
  },
  {
   "cell_type": "code",
   "execution_count": 69,
   "id": "9ace23d5-9018-4287-bf7f-3488d41d8325",
   "metadata": {},
   "outputs": [
    {
     "data": {
      "text/plain": [
       "{10, 20, 30}"
      ]
     },
     "execution_count": 69,
     "metadata": {},
     "output_type": "execute_result"
    }
   ],
   "source": [
    "# .copy(): Returns a shallow copy of the set.\n",
    "# this means it can shows copy set elements only before elements are vanished\n",
    "s3 = {10,20,30}\n",
    "s4 = {3, 4, 5}\n",
    "s4= s3.copy()\n",
    "s4"
   ]
  },
  {
   "cell_type": "code",
   "execution_count": 70,
   "id": "83e73681-d47f-45ae-9959-8798c6a7f78e",
   "metadata": {},
   "outputs": [
    {
     "data": {
      "text/plain": [
       "set()"
      ]
     },
     "execution_count": 70,
     "metadata": {},
     "output_type": "execute_result"
    }
   ],
   "source": [
    "#.clear(): Removes all elements from the set.\n",
    "s1 = {1, 2}\n",
    "s2 = {3, 4, 5}\n",
    "s1.clear()\n",
    "s1"
   ]
  },
  {
   "cell_type": "code",
   "execution_count": null,
   "id": "f0610233-f0d2-4fbc-920c-0627ab1dd9d0",
   "metadata": {},
   "outputs": [],
   "source": [
    "# Set Comprehension"
   ]
  },
  {
   "cell_type": "code",
   "execution_count": null,
   "id": "3695f893-3068-4fff-ad71-a23ef4167ac6",
   "metadata": {},
   "outputs": [],
   "source": []
  },
  {
   "cell_type": "code",
   "execution_count": null,
   "id": "03672a5e-0422-4831-8004-58a662e212f9",
   "metadata": {},
   "outputs": [],
   "source": [
    "\n"
   ]
  }
 ],
 "metadata": {
  "kernelspec": {
   "display_name": "Python 3 (ipykernel)",
   "language": "python",
   "name": "python3"
  },
  "language_info": {
   "codemirror_mode": {
    "name": "ipython",
    "version": 3
   },
   "file_extension": ".py",
   "mimetype": "text/x-python",
   "name": "python",
   "nbconvert_exporter": "python",
   "pygments_lexer": "ipython3",
   "version": "3.12.7"
  },
  "panel-cell-order": [
   "8f71a272-a621-4a9f-ad0d-bab68ea5ffaa",
   "f9947187-a6ac-4396-b6d0-be4e8a19ec4b"
  ]
 },
 "nbformat": 4,
 "nbformat_minor": 5
}
