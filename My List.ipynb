{
 "cells": [
  {
   "cell_type": "code",
   "execution_count": null,
   "id": "e83acd30-0d87-44ad-959c-2bc071bef86b",
   "metadata": {},
   "outputs": [],
   "source": [
    "# List is a collection of elements in specified order.\n",
    "# lists are Ordered, Mutable and allow duplicates\n",
    "# lists are Heterogeneous : A list can contain items of different data types (integers, strings, lists, etc.)."
   ]
  },
  {
   "cell_type": "code",
   "execution_count": 1,
   "id": "bb1bc010-73a7-4c06-93df-f026c9d30139",
   "metadata": {},
   "outputs": [
    {
     "name": "stdout",
     "output_type": "stream",
     "text": [
      "[]\n",
      "[]\n"
     ]
    }
   ],
   "source": [
    "# Creating a list\n",
    "l1=[]\n",
    "l1\n",
    "l2=list() #list is created with constructer\n",
    "print(l1)\n",
    "print(l2)"
   ]
  },
  {
   "cell_type": "code",
   "execution_count": 10,
   "id": "d61a0f87-9c3d-420c-beb1-12bf30038eb3",
   "metadata": {},
   "outputs": [
    {
     "name": "stdout",
     "output_type": "stream",
     "text": [
      "0\n",
      "<class 'list'>\n",
      "2232159303168\n"
     ]
    }
   ],
   "source": [
    "# finding length, type and id of the list\n",
    "print(len(l1))\n",
    "print(type(l1))\n",
    "print(id(l1))"
   ]
  },
  {
   "cell_type": "code",
   "execution_count": 4,
   "id": "8d39efb5-9f9e-4f00-9ade-74bf753ff0e4",
   "metadata": {},
   "outputs": [
    {
     "name": "stdout",
     "output_type": "stream",
     "text": [
      "[1, 2, 3, 6, 54, 7, 8, 9, 7, 5, 6, 8, 7, 4]\n",
      "[2.3, 5.6, 4.2, 8.3, 4.5]\n",
      "['one', 'two', 'Three', 'Four', '25', '36']\n",
      "[True, False, True]\n",
      "[(1+2j), (3+9j), (8+12j)]\n",
      "[10, True, 56.3, 'One', (1+2j), 20, 89.3, (56+5j), 63.7, False, 'three']\n"
     ]
    }
   ],
   "source": [
    "# adding elements or values to the list\n",
    "# list allow all data type values       \n",
    "l1=[1,2,3,6,54,7,8,9,7,5,6,8,7,4] # list of integers values\n",
    "l2=[2.3,5.6,4.2,8.3,4.5] #list of floting values\n",
    "l3=['one', 'two', \"Three\", '''Four''',\"25\",'36'] #list of string values\n",
    "l4=[True, False, True] #list of bool values\n",
    "l5=[1+2j,3+9j,8+12j] #list of complex values\n",
    "l6=[10,True,56.3,\"One\",1+2j,20,89.3,56+5j,63.7,False,\"three\"] # list allow all data types in single list also\n",
    "print(l1)\n",
    "print(l2)\n",
    "print(l3)\n",
    "print(l4)\n",
    "print(l5)\n",
    "print(l6)"
   ]
  },
  {
   "cell_type": "code",
   "execution_count": 45,
   "id": "fb5a2e74-6699-45b5-96be-87f297cbf173",
   "metadata": {},
   "outputs": [
    {
     "data": {
      "text/plain": [
       "[10, 20, 50, 10, 80, 50, 12, 20, 40, 20, 50, 10]"
      ]
     },
     "execution_count": 45,
     "metadata": {},
     "output_type": "execute_result"
    }
   ],
   "source": [
    "# list allow duplicate values\n",
    "l7=[10,20,50,10,80,50,12,20,40,20,50,10] \n",
    "l7"
   ]
  },
  {
   "cell_type": "code",
   "execution_count": 43,
   "id": "f97d77ec-e911-4562-a011-79eca33412b9",
   "metadata": {},
   "outputs": [
    {
     "name": "stdout",
     "output_type": "stream",
     "text": [
      "4\n",
      "10\n",
      "50\n"
     ]
    }
   ],
   "source": [
    "# Accesing elements by using index and nagative index\n",
    "print(l7.index(80)) # here we are passing the value in list it gives the index position\n",
    "print(l7[-1]) # print last element of the list\n",
    "print(l7[-7]) # it is also nathing but right indexing the index starts from right to left (index start -1,-2,-3....)"
   ]
  },
  {
   "cell_type": "code",
   "execution_count": 42,
   "id": "dd471cd0-a43d-4685-b614-13e216e655d3",
   "metadata": {},
   "outputs": [
    {
     "name": "stdout",
     "output_type": "stream",
     "text": [
      "[10, 20, 50, 10, 80, 50, 12, 20, 40, 20, 50, 10]\n",
      "[10, 20, 50, 10, 80]\n",
      "[50, 10, 80, 50, 12]\n",
      "[80, 50, 12, 20, 40, 20, 50, 10]\n",
      "[10, 20, 50, 10, 80, 50, 12, 20, 40, 20, 50]\n",
      "[40, 20, 50]\n"
     ]
    }
   ],
   "source": [
    "#Sclising the list\n",
    "#Single scling\n",
    "print(l7[:]) # single sclising returns all values in list\n",
    "print(l7[:5]) # index starts from 0 upto 4 index values displayed\n",
    "print(l7[2:7]) #index starts from 2 to 6 index values displayed\n",
    "print(l7[4:]) #index starts from 4 to last value\n",
    "print(l7[:-1]) # returns all the values in the list\n",
    "print(l7[-4:-1]) # starts from -4th index= 40 upto -2 (n-1=-1-1=-2) values printed (right index starts from -1)"
   ]
  },
  {
   "cell_type": "code",
   "execution_count": 53,
   "id": "6afc1cfa-76bd-401c-8a77-8453bcac636d",
   "metadata": {},
   "outputs": [
    {
     "name": "stdout",
     "output_type": "stream",
     "text": [
      "[10, 20, 50, 10, 80, 50, 12, 20, 40, 20, 50, 10]\n",
      "[10, 12]\n",
      "[50, 50, 40, 10]\n",
      "[50, 12, 20, 40, 20, 50, 10]\n",
      "[10, 50, 20, 40, 20, 12, 50, 80, 10, 50, 20, 10]\n",
      "[80, 10, 50, 20, 10]\n",
      "[20, 80, 20]\n",
      "[80, 20, 50]\n"
     ]
    }
   ],
   "source": [
    "#Duble Sclising\n",
    "print(l7[::]) #print all values in the list\n",
    "print(l7[::6]) # print the 0 index after that it prints every 6th index element\n",
    "print(l7[2::3]) # Here 1st index 2 value is print after that 4th index of every element printed\n",
    "print(l7[5::]) # here the 5th index to last index values are printed\n",
    "print(l7[::-1]) # print the list in reverse order\n",
    "print(l7[-8::-1]) # Here -8 to index to remaining values are printed up to 0 index\n",
    "print(l7[7::-3]) # here the index 7th value printed after that the index back worded because it is nagative index\n",
    "                 # [10, 20(3rd), 50, 10, 80(2nd it is -3), 50, 12, 20 (this print 1st), 40, 20, 50, 10]\n",
    "print(l7[-8::3]) # [10, 20, 50, 10, 80 (1st prints), 50, 12, 20 (2nd), 40, 20, 50 (3rd) , 10]"
   ]
  },
  {
   "cell_type": "code",
   "execution_count": 57,
   "id": "3211766a-8da0-457b-bcc5-481ccc77066c",
   "metadata": {},
   "outputs": [
    {
     "name": "stdout",
     "output_type": "stream",
     "text": [
      "[10, 50, 80]\n",
      "[50, 80, 12]\n",
      "[40]\n"
     ]
    }
   ],
   "source": [
    "#step counting\n",
    "print(l7[0:5:2]) # here starting index is 0 and ending index is 5-1=4 every 2 indexed the value is displayed\n",
    "print(l7[2:8:2]) # here starting index is 2 last index is 8-=7 every index is devided by 2\n",
    "print(l7[3:-3:2])"
   ]
  },
  {
   "cell_type": "code",
   "execution_count": null,
   "id": "aedce6ed-e8de-46cd-8b27-ce27268e47b2",
   "metadata": {},
   "outputs": [],
   "source": [
    "# Modifing lists"
   ]
  },
  {
   "cell_type": "code",
   "execution_count": null,
   "id": "755eaaab-c59a-446c-b102-37bacbbe1792",
   "metadata": {},
   "outputs": [],
   "source": [
    "# 1.changing the list value"
   ]
  },
  {
   "cell_type": "code",
   "execution_count": 13,
   "id": "1c255ef8-3590-41ae-ae32-274b5a6f0107",
   "metadata": {},
   "outputs": [
    {
     "data": {
      "text/plain": [
       "[200, True, 25.1, 'One', (1+2j), 20, 89.3, 10, 56.3, True, 'Four', (1+2j)]"
      ]
     },
     "execution_count": 13,
     "metadata": {},
     "output_type": "execute_result"
    }
   ],
   "source": [
    "# Indexing--changing the list value\n",
    "l8=[10, True, 25.1, 'One', (1+2j), 20, 89.3, 10, 56.3, True, 'Four', (1+2j)]\n",
    "l8[0]= 200 # here index of 0 value is changed (10 to 200)\n",
    "l8"
   ]
  },
  {
   "cell_type": "code",
   "execution_count": 86,
   "id": "f372c6cb-ca28-4fb8-bf49-3cb714904aa7",
   "metadata": {},
   "outputs": [
    {
     "name": "stdout",
     "output_type": "stream",
     "text": [
      "n\n",
      "i\n",
      "t\n"
     ]
    }
   ],
   "source": [
    "# nested indexing also allowed listprint\n",
    "lt1=[10,'nit',56,True]\n",
    "print(lt1[1][0])\n",
    "print(lt1[1][1])\n",
    "print(lt1[1][2])\n",
    "print(lt1[1][3]) # Index error : value out of range 4 "
   ]
  },
  {
   "cell_type": "code",
   "execution_count": 87,
   "id": "eb6cf875-5034-49a2-b32b-71d54a7aa506",
   "metadata": {},
   "outputs": [
    {
     "name": "stdout",
     "output_type": "stream",
     "text": [
      "n\n",
      "i\n",
      "t\n"
     ]
    },
    {
     "ename": "IndexError",
     "evalue": "string index out of range",
     "output_type": "error",
     "traceback": [
      "\u001b[1;31m---------------------------------------------------------------------------\u001b[0m",
      "\u001b[1;31mIndexError\u001b[0m                                Traceback (most recent call last)",
      "Cell \u001b[1;32mIn[87], line 4\u001b[0m\n\u001b[0;32m      2\u001b[0m \u001b[38;5;28mprint\u001b[39m(lt1[\u001b[38;5;241m1\u001b[39m][\u001b[38;5;241m1\u001b[39m])\n\u001b[0;32m      3\u001b[0m \u001b[38;5;28mprint\u001b[39m(lt1[\u001b[38;5;241m1\u001b[39m][\u001b[38;5;241m2\u001b[39m])\n\u001b[1;32m----> 4\u001b[0m \u001b[38;5;28mprint\u001b[39m(lt1[\u001b[38;5;241m1\u001b[39m][\u001b[38;5;241m3\u001b[39m])\n",
      "\u001b[1;31mIndexError\u001b[0m: string index out of range"
     ]
    }
   ],
   "source": [
    "# here 3 values are printed properly after that the index error comes\n",
    "print(lt1[1][0])\n",
    "print(lt1[1][1])\n",
    "print(lt1[1][2])\n",
    "print(lt1[1][3]) # Index error : value out of range 4 "
   ]
  },
  {
   "cell_type": "code",
   "execution_count": null,
   "id": "8114858d-7482-4055-a275-25dce5f14003",
   "metadata": {},
   "outputs": [],
   "source": [
    "# here 3 values are not showed error is occured\n",
    "print(lt1[1][3]) # Index error : value out of range 4 \n",
    "print(lt1[1][0])\n",
    "print(lt1[1][1])\n",
    "print(lt1[1][2])\n"
   ]
  },
  {
   "cell_type": "code",
   "execution_count": null,
   "id": "25e14f20-76b1-4133-9abd-8c1a10882304",
   "metadata": {},
   "outputs": [],
   "source": [
    "# 2.Adding Elements to list"
   ]
  },
  {
   "cell_type": "code",
   "execution_count": 10,
   "id": "aa00c8d3-d444-42d0-a274-aa953058f58a",
   "metadata": {},
   "outputs": [
    {
     "name": "stdout",
     "output_type": "stream",
     "text": [
      "[10, True, 25.1, 'One', (1+2j), 20, 89.3, (56+5j), 63.7, False, 'three', 10, 56.3, True, 'Four', (1+2j), [1, 2, 3], [2.3, 5.6, 4.2, 8.3, 4.5], 10, 56.3, True, 'Four', (1+2j), [1, 2, 3], [2.3, 5.6, 4.2, 8.3, 4.5], 10, 56.3, True, 'Four', (1+2j)]\n",
      "[10, True, 25.1, 'One', (1+2j), 20, 89.3, (56+5j), 63.7, False, 'three', 10, 56.3, True, 'Four', (1+2j), [1, 2, 3], [2.3, 5.6, 4.2, 8.3, 4.5], 10, 56.3, True, 'Four', (1+2j), [1, 2, 3], [2.3, 5.6, 4.2, 8.3, 4.5], 10, 56.3, True, 'Four', (1+2j), [1, 2, 3], [2.3, 5.6, 4.2, 8.3, 4.5]]\n"
     ]
    }
   ],
   "source": [
    "# adding elements to the list \n",
    "# append()---- fuction we can add single element or valueat once\n",
    "# values are added in end of the list\n",
    "l6.append(10)\n",
    "l6.append(56.3)\n",
    "l6.append(True)\n",
    "l6.append(\"Four\")\n",
    "l6.append(1+2j)# we can add list in lits nathing but nested list \n",
    "print(l6)\n",
    "#( Note append fuction treest adding list as a single value)\n",
    "l6.append([1,2,3]) # here we are adding new list \n",
    "l6.append(l2) # here we are adding existing list\n",
    "print(l6)"
   ]
  },
  {
   "cell_type": "code",
   "execution_count": 17,
   "id": "1ff97ac6-a0ae-443d-b26f-e993c89ff44a",
   "metadata": {},
   "outputs": [
    {
     "data": {
      "text/plain": [
       "[200,\n",
       " 10,\n",
       " True,\n",
       " 25.1,\n",
       " 'One',\n",
       " (1+2j),\n",
       " True,\n",
       " (1+2j),\n",
       " True,\n",
       " (1+2j),\n",
       " 'abc',\n",
       " 'abc',\n",
       " 20,\n",
       " 89.3,\n",
       " 10,\n",
       " 56.3,\n",
       " True,\n",
       " 'Four',\n",
       " (1+2j)]"
      ]
     },
     "execution_count": 17,
     "metadata": {},
     "output_type": "execute_result"
    }
   ],
   "source": [
    "# Insert()---adding elements in specific index\n",
    "# insert(index, value)\n",
    "# by using insert method we can insert single value only\n",
    "l8.insert(8, \"abc\")\n",
    "l8.insert(1,10)\n",
    "l8.insert(6,True)\n",
    "l8"
   ]
  },
  {
   "cell_type": "code",
   "execution_count": 39,
   "id": "180ecea3-a402-49e2-b0ad-42e85fe40d8a",
   "metadata": {},
   "outputs": [
    {
     "name": "stdout",
     "output_type": "stream",
     "text": [
      "[10, 50, 65.2, 78, 10, 2.3, 5.6, 4.2, 8.3, 4.5]\n",
      "[10, 50, 65.2, 78, 10, 2.3, 5.6, 4.2, 8.3, 4.5, 1, 2, 3, 4]\n"
     ]
    }
   ],
   "source": [
    "# extend()---- Adds all items from an iterable to the end.\n",
    "li1=[10,50,65.2,78,10]\n",
    "li1.extend(l2) # list is extended with existing list\n",
    "print(li1)\n",
    "li1.extend([1,2,3,4]) #list is extended with new list\n",
    "print(li1)"
   ]
  },
  {
   "cell_type": "code",
   "execution_count": null,
   "id": "f3e4b594-d0cb-4822-8328-9f949f031fcc",
   "metadata": {},
   "outputs": [],
   "source": [
    "#3. Remove items"
   ]
  },
  {
   "cell_type": "code",
   "execution_count": 55,
   "id": "a7d3410d-610f-4a84-bee5-f2ecb6842582",
   "metadata": {},
   "outputs": [
    {
     "data": {
      "text/plain": [
       "[10, 50, 10, 78, 2.3, 5.6, 10, 4.2, 8.3, 4.5, 10, 1, 2]"
      ]
     },
     "execution_count": 55,
     "metadata": {},
     "output_type": "execute_result"
    }
   ],
   "source": [
    "# pop() --- remove single element at a time\n",
    "\n",
    "l2=[10, 50, 65.2, 10, 78, 2.3, 5.6,10, 4.2, 8.3, 4.5, 10, 1, 2, 3]\n",
    "print(l2.pop() # if it is empty it removes last element of the list\n",
    "l2.pop(2) # it removes the 10th index value\n",
    "l2"
   ]
  },
  {
   "cell_type": "code",
   "execution_count": 58,
   "id": "40307a65-5e01-4ab0-968b-657f8b1f665d",
   "metadata": {},
   "outputs": [
    {
     "ename": "IndexError",
     "evalue": "pop index out of range",
     "output_type": "error",
     "traceback": [
      "\u001b[1;31m---------------------------------------------------------------------------\u001b[0m",
      "\u001b[1;31mIndexError\u001b[0m                                Traceback (most recent call last)",
      "Cell \u001b[1;32mIn[58], line 1\u001b[0m\n\u001b[1;32m----> 1\u001b[0m l2\u001b[38;5;241m.\u001b[39mpop(\u001b[38;5;241m13\u001b[39m)\n\u001b[0;32m      2\u001b[0m l2\n",
      "\u001b[1;31mIndexError\u001b[0m: pop index out of range"
     ]
    }
   ],
   "source": [
    "# if the index is not there it shows index error\n",
    "l2.pop(13)\n",
    "l2"
   ]
  },
  {
   "cell_type": "code",
   "execution_count": 56,
   "id": "c261e4b7-e64c-4925-b094-30f94c71ec80",
   "metadata": {},
   "outputs": [
    {
     "data": {
      "text/plain": [
       "[50, 10, 78, 2.3, 5.6, 10, 4.2, 8.3, 4.5, 10, 1, 2]"
      ]
     },
     "execution_count": 56,
     "metadata": {},
     "output_type": "execute_result"
    }
   ],
   "source": [
    "# remove()--- this method also used for remove single element\n",
    "# you must assign any value\n",
    "# duplicate values are it can delete 1st occurance of the value\n",
    "\n",
    "l2.remove(10)\n",
    "l2"
   ]
  },
  {
   "cell_type": "code",
   "execution_count": 57,
   "id": "942cf0dc-7af4-47b5-b0f7-98543171b933",
   "metadata": {},
   "outputs": [
    {
     "ename": "ValueError",
     "evalue": "list.remove(x): x not in list",
     "output_type": "error",
     "traceback": [
      "\u001b[1;31m---------------------------------------------------------------------------\u001b[0m",
      "\u001b[1;31mValueError\u001b[0m                                Traceback (most recent call last)",
      "Cell \u001b[1;32mIn[57], line 1\u001b[0m\n\u001b[1;32m----> 1\u001b[0m l2\u001b[38;5;241m.\u001b[39mremove(\u001b[38;5;241m100\u001b[39m)\n\u001b[0;32m      2\u001b[0m l2\n",
      "\u001b[1;31mValueError\u001b[0m: list.remove(x): x not in list"
     ]
    }
   ],
   "source": [
    "#if the value is not there it shows value error\n",
    "l2.remove(100)\n",
    "l2"
   ]
  },
  {
   "cell_type": "code",
   "execution_count": 59,
   "id": "285a3a69-af69-43cb-99d0-3905b4c699c9",
   "metadata": {},
   "outputs": [
    {
     "data": {
      "text/plain": [
       "[]"
      ]
     },
     "execution_count": 59,
     "metadata": {},
     "output_type": "execute_result"
    }
   ],
   "source": [
    "# Clear() --- is used clear all the elements in the list , the list empty list\n",
    "l2.clear()\n",
    "l2"
   ]
  },
  {
   "cell_type": "code",
   "execution_count": 61,
   "id": "758d0f33-d5e5-4a69-aa31-ae00d3f89937",
   "metadata": {},
   "outputs": [
    {
     "ename": "NameError",
     "evalue": "name 'l2' is not defined",
     "output_type": "error",
     "traceback": [
      "\u001b[1;31m---------------------------------------------------------------------------\u001b[0m",
      "\u001b[1;31mNameError\u001b[0m                                 Traceback (most recent call last)",
      "Cell \u001b[1;32mIn[61], line 2\u001b[0m\n\u001b[0;32m      1\u001b[0m \u001b[38;5;66;03m# deleting the list \u001b[39;00m\n\u001b[1;32m----> 2\u001b[0m \u001b[38;5;28;01mdel\u001b[39;00m(l2)\n\u001b[0;32m      3\u001b[0m l2\n",
      "\u001b[1;31mNameError\u001b[0m: name 'l2' is not defined"
     ]
    }
   ],
   "source": [
    "# deleting the list \n",
    "# after deleting when we call it can shows name error\n",
    "del(l2)\n",
    "l2"
   ]
  },
  {
   "cell_type": "code",
   "execution_count": null,
   "id": "9aeb2596-7249-4d2e-8f38-45579e32aa4d",
   "metadata": {},
   "outputs": [],
   "source": [
    "# 4 Opearations"
   ]
  },
  {
   "cell_type": "code",
   "execution_count": 63,
   "id": "6b75c7d2-62d3-43ec-a629-dcd12af893dc",
   "metadata": {},
   "outputs": [
    {
     "data": {
      "text/plain": [
       "[1, 2, 3, 6, 54, 7, 'one', 'two', 'Three']"
      ]
     },
     "execution_count": 63,
     "metadata": {},
     "output_type": "execute_result"
    }
   ],
   "source": [
    "# Concatinating the Two strings\n",
    "l1=[1,2,3,6,54,7,]\n",
    "l3=['one', 'two', \"Three\"]\n",
    "l1+l3"
   ]
  },
  {
   "cell_type": "code",
   "execution_count": 64,
   "id": "514a23d7-0ea4-43cc-a7f5-cf0020ef7fb6",
   "metadata": {},
   "outputs": [
    {
     "data": {
      "text/plain": [
       "[1, 2, 3, 6, 54, 7, 1, 2, 3, 6, 54, 7, 1, 2, 3, 6, 54, 7]"
      ]
     },
     "execution_count": 64,
     "metadata": {},
     "output_type": "execute_result"
    }
   ],
   "source": [
    "# Repitation \n",
    "l1*3"
   ]
  },
  {
   "cell_type": "code",
   "execution_count": 71,
   "id": "4df4769a-6882-49fd-8259-d3f47d36f55b",
   "metadata": {},
   "outputs": [
    {
     "name": "stdout",
     "output_type": "stream",
     "text": [
      "True\n",
      "True\n",
      "False\n",
      "False\n"
     ]
    }
   ],
   "source": [
    "# membership testing\n",
    "# in or not in\n",
    "# valu in or not in list ex: 5 in li1 directly we can write if it is single calling\n",
    "d=54 in l1        # 54 value is in the list (true it is there in list)\n",
    "print(d)\n",
    "a=89 not in l1    # 89 value not in the list ( true it is not there)\n",
    "print(a)\n",
    "b=10 in l1        # this is not there (False)\n",
    "print(b)\n",
    "c=6 not in l1     # This number is in the list (False)\n",
    "print(c)"
   ]
  },
  {
   "cell_type": "code",
   "execution_count": 72,
   "id": "67e7ddab-e257-46ea-a5b6-0d1c677883d2",
   "metadata": {},
   "outputs": [
    {
     "name": "stdout",
     "output_type": "stream",
     "text": [
      "1\n",
      "2\n",
      "3\n",
      "6\n",
      "54\n",
      "7\n"
     ]
    }
   ],
   "source": [
    "# Itterations\n",
    "for i in l1:\n",
    "    print(i)"
   ]
  },
  {
   "cell_type": "code",
   "execution_count": 75,
   "id": "6549475c-f10a-44b1-863c-c84a0c26d2a1",
   "metadata": {},
   "outputs": [
    {
     "name": "stdout",
     "output_type": "stream",
     "text": [
      "(0, 1)\n",
      "(1, 2)\n",
      "(2, 3)\n",
      "(3, 6)\n",
      "(4, 54)\n",
      "(5, 7)\n"
     ]
    }
   ],
   "source": [
    "for i in enumerate(l1):\n",
    "    print(i)"
   ]
  },
  {
   "cell_type": "code",
   "execution_count": null,
   "id": "9d09f6e4-a7da-4ba8-b5bf-9bff68335e31",
   "metadata": {},
   "outputs": [],
   "source": [
    "# 5 Built in functions"
   ]
  },
  {
   "cell_type": "code",
   "execution_count": 88,
   "id": "b809271d-d524-42d9-abb6-f50d23478998",
   "metadata": {},
   "outputs": [
    {
     "data": {
      "text/plain": [
       "6"
      ]
     },
     "execution_count": 88,
     "metadata": {},
     "output_type": "execute_result"
    }
   ],
   "source": [
    "# length ---- number of elements in the list\n",
    "len(l1)"
   ]
  },
  {
   "cell_type": "code",
   "execution_count": 89,
   "id": "d5ead3f2-b218-468a-a6b4-2a839e2e7bec",
   "metadata": {},
   "outputs": [
    {
     "data": {
      "text/plain": [
       "1"
      ]
     },
     "execution_count": 89,
     "metadata": {},
     "output_type": "execute_result"
    }
   ],
   "source": [
    "# min ---- finding the smallest element or value in the list\n",
    "min(l1)"
   ]
  },
  {
   "cell_type": "code",
   "execution_count": 90,
   "id": "39352653-4fed-44ad-a089-90d7e499a223",
   "metadata": {},
   "outputs": [
    {
     "data": {
      "text/plain": [
       "54"
      ]
     },
     "execution_count": 90,
     "metadata": {},
     "output_type": "execute_result"
    }
   ],
   "source": [
    "#max --- finding the highest number in the list\n",
    "max(l1)"
   ]
  },
  {
   "cell_type": "code",
   "execution_count": 91,
   "id": "26295d0f-5657-4e00-bfce-d0aa384d8fab",
   "metadata": {},
   "outputs": [
    {
     "data": {
      "text/plain": [
       "73"
      ]
     },
     "execution_count": 91,
     "metadata": {},
     "output_type": "execute_result"
    }
   ],
   "source": [
    "# sum ---- Sum all the elements in the list\n",
    "sum(l1)"
   ]
  },
  {
   "cell_type": "code",
   "execution_count": 95,
   "id": "b28e9f3a-4c60-47b7-b8b9-2d361bdf6ff5",
   "metadata": {},
   "outputs": [
    {
     "name": "stdout",
     "output_type": "stream",
     "text": [
      "[1, 2, 3, 6, 7, 54]\n",
      "[54, 7, 6, 3, 2, 1]\n"
     ]
    }
   ],
   "source": [
    "# sort() --- sorting the elements ascending or descending order\n",
    "# by default value is false\n",
    "# **** PARAMETER TUNING ------ System parameters (default parameters)\n",
    "# Hyper parameter tuning ------ User changes system parameters\n",
    "#if the reverse = False it is ascending order\n",
    "#if the reverse = True it is descending order\n",
    "l1.sort()\n",
    "print(l1)\n",
    "l1.sort(reverse=True)\n",
    "print(l1)"
   ]
  },
  {
   "cell_type": "code",
   "execution_count": 99,
   "id": "879a0c13-f9b0-4127-b986-b70896a0767e",
   "metadata": {},
   "outputs": [
    {
     "name": "stdout",
     "output_type": "stream",
     "text": [
      "[54, 7, 6, 3, 2, 1]\n",
      "[1, 2, 3, 6, 7, 54]\n"
     ]
    }
   ],
   "source": [
    "# Revese() ---- to revese the list\n",
    "print(l1)\n",
    "l1.reverse()\n",
    "print(l1)"
   ]
  },
  {
   "cell_type": "code",
   "execution_count": null,
   "id": "59cf787d-f3b8-4057-9a4a-f4186dbb1a6e",
   "metadata": {},
   "outputs": [],
   "source": []
  }
 ],
 "metadata": {
  "kernelspec": {
   "display_name": "Python 3 (ipykernel)",
   "language": "python",
   "name": "python3"
  },
  "language_info": {
   "codemirror_mode": {
    "name": "ipython",
    "version": 3
   },
   "file_extension": ".py",
   "mimetype": "text/x-python",
   "name": "python",
   "nbconvert_exporter": "python",
   "pygments_lexer": "ipython3",
   "version": "3.12.7"
  }
 },
 "nbformat": 4,
 "nbformat_minor": 5
}
