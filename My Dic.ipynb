{
 "cells": [
  {
   "cell_type": "code",
   "execution_count": null,
   "id": "c00fc35e-b4cf-475e-bf78-6c563aae41d9",
   "metadata": {},
   "outputs": [],
   "source": [
    "# Dictionarie\n",
    "# is a Unique, inmutable and unordered collection of Key-Value elements.\n",
    "# Each key is unique, and it is associated with a value."
   ]
  },
  {
   "cell_type": "code",
   "execution_count": 1,
   "id": "70029c42-33b9-40b9-8f8f-35c567f7236d",
   "metadata": {},
   "outputs": [
    {
     "name": "stdout",
     "output_type": "stream",
     "text": [
      "{}\n",
      "{}\n"
     ]
    }
   ],
   "source": [
    "# Creating Dictionaries\n",
    "d1={}\n",
    "d2=dict()\n",
    "print(d1)\n",
    "print(d2)"
   ]
  },
  {
   "cell_type": "code",
   "execution_count": 2,
   "id": "a2610604-cf3f-46ec-8db8-fa7788e3a150",
   "metadata": {},
   "outputs": [
    {
     "name": "stdout",
     "output_type": "stream",
     "text": [
      "0\n",
      "<class 'dict'>\n",
      "1972833806144\n"
     ]
    }
   ],
   "source": [
    "# finding length, type and id of the list\n",
    "print(len(d1))\n",
    "print(type(d1))\n",
    "print(id(d1))"
   ]
  },
  {
   "cell_type": "code",
   "execution_count": null,
   "id": "e7fc2f65-140d-4d97-8e05-b7b991f42134",
   "metadata": {},
   "outputs": [],
   "source": [
    "# Creating Dictionary\n",
    "# A dictionary can be created by defining key-value pairs inside curly braces {key: value}"
   ]
  },
  {
   "cell_type": "code",
   "execution_count": 10,
   "id": "7e7b1d5b-fb8c-43dc-9eb7-a2979cb8fbf3",
   "metadata": {},
   "outputs": [
    {
     "name": "stdout",
     "output_type": "stream",
     "text": [
      "{'name': 'Alice', 'age': 25, 'city': 'New York'}\n",
      "{1: 'Alice', 2: 25, 3: 'New York'}\n",
      "{1: (1+2j), 2: 'string', 3: True, 4: 58, 5: 89.32}\n",
      "{1: (1+2j), 2: 'string', 3: True, 4: 58, 5: 89.32}\n",
      "{'A': 'one', 'B': 56, 'c': True}\n",
      "{1: 'one', 'A': 'two', 3: 'three'}\n"
     ]
    }
   ],
   "source": [
    "D1={\"name\": \"Alice\",\"age\": 25,\"city\": \"New York\"} # dic with string keys\n",
    "print(D1)\n",
    "d2={1: \"Alice\",2: 25, 3: \"New York\"} # dic with integer keys\n",
    "print(d2)\n",
    "d3={1:1+2j , 2:\"string\", 3:True, 4:58, 5:89.32} # dic allows all data types\n",
    "print(d3)\n",
    "d4=dict({1: (1+2j), 2: 'string', 3: True, 4: 58, 5: 89.32}) # by using dic constructor\n",
    "print(d4)\n",
    "d5={'A':\"one\", 'B': 56 , \"c\":True} # dic with char keys\n",
    "print(d5)\n",
    "d6={1:'one' , 'A':'two' , 3:'three'} # dic with mixed keys\n",
    "print(d6)"
   ]
  },
  {
   "cell_type": "code",
   "execution_count": 11,
   "id": "f139d942-baaa-4315-95e0-c678f3cbaab5",
   "metadata": {},
   "outputs": [
    {
     "data": {
      "text/plain": [
       "dict_keys([1, 'A', 3])"
      ]
     },
     "execution_count": 11,
     "metadata": {},
     "output_type": "execute_result"
    }
   ],
   "source": [
    "#keys() ---- using these method we can call keys in dic\n",
    "d6.keys()"
   ]
  },
  {
   "cell_type": "code",
   "execution_count": 12,
   "id": "d0eb7c6c-c2e2-4057-9905-f64a4a393e87",
   "metadata": {},
   "outputs": [
    {
     "data": {
      "text/plain": [
       "dict_values(['one', 'two', 'three'])"
      ]
     },
     "execution_count": 12,
     "metadata": {},
     "output_type": "execute_result"
    }
   ],
   "source": [
    "#value() --- using this method we can call values in dic\n",
    "d6.values()"
   ]
  },
  {
   "cell_type": "code",
   "execution_count": 13,
   "id": "7f1d5d44-a13a-4bcd-9fad-927be76fc86c",
   "metadata": {},
   "outputs": [
    {
     "data": {
      "text/plain": [
       "dict_items([(1, 'one'), ('A', 'two'), (3, 'three')])"
      ]
     },
     "execution_count": 13,
     "metadata": {},
     "output_type": "execute_result"
    }
   ],
   "source": [
    "# item() --- access each key-value pair in the dic\n",
    "d6.items()"
   ]
  },
  {
   "cell_type": "code",
   "execution_count": 14,
   "id": "bd778ea0-a11b-4f98-a69a-5d3acb83f47d",
   "metadata": {},
   "outputs": [
    {
     "name": "stdout",
     "output_type": "stream",
     "text": [
      "{1: 'one', 2: 'two', 'A': ['asif', 'john', 'Maria']}\n",
      "{1: 'one', 2: 'two', 'A': ['asif', 'john', 'Maria'], 'B': ('Bat', 'cat', 'hat')}\n"
     ]
    }
   ],
   "source": [
    "#\n",
    "d7={1:'one' , 2:'two' , 'A':['asif' , 'john' , 'Maria']} # in dic list is availave like a valiue\n",
    "d8= {1:'one' , 2:'two' , 'A':['asif' , 'john' , 'Maria'], 'B':('Bat' , 'cat' , 'hat')}# dic inlist andTuple\n",
    "print(d7)\n",
    "print(d8)"
   ]
  },
  {
   "cell_type": "code",
   "execution_count": 25,
   "id": "f8d77076-5ab5-4e12-944e-e645c009047b",
   "metadata": {},
   "outputs": [
    {
     "name": "stdout",
     "output_type": "stream",
     "text": [
      "{'d': [10, 20, 30, 40, 50], 'c': [10, 20, 30, 40, 50], 'a': [10, 20, 30, 40, 50], 'e': [10, 20, 30, 40, 50], 'b': [10, 20, 30, 40, 50]}\n"
     ]
    }
   ],
   "source": [
    "# creating a dic by using keys\n",
    "k={'a','b','c','d','e'}\n",
    "v=[10,20,30,40,50]\n",
    "d9=dict.fromkeys(k, v)\n",
    "print(d9)"
   ]
  },
  {
   "cell_type": "code",
   "execution_count": 26,
   "id": "ba1d1435-5826-40ff-b448-bc09fcfc8d22",
   "metadata": {},
   "outputs": [
    {
     "data": {
      "text/plain": [
       "{'d': [10, 20, 30, 40, 50, 70],\n",
       " 'c': [10, 20, 30, 40, 50, 70],\n",
       " 'a': [10, 20, 30, 40, 50, 70],\n",
       " 'e': [10, 20, 30, 40, 50, 70],\n",
       " 'b': [10, 20, 30, 40, 50, 70]}"
      ]
     },
     "execution_count": 26,
     "metadata": {},
     "output_type": "execute_result"
    }
   ],
   "source": [
    "v.append(70)\n",
    "d9"
   ]
  },
  {
   "cell_type": "code",
   "execution_count": 56,
   "id": "3129f063-c2f8-493f-be9b-4a9bc39632d5",
   "metadata": {},
   "outputs": [
    {
     "name": "stdout",
     "output_type": "stream",
     "text": [
      "Asif\n",
      "string\n"
     ]
    }
   ],
   "source": [
    "#Acessing items\n",
    "d3={1:1+2j , 2:\"string\", 3:True, 4:58, 5:89.32}\n",
    "d4={'Name':'Asif' , 'ID': 74123 , 'DOB': 1991 , 'job' :'Analyst'}\n",
    "print(d4['Name'])\n",
    "print(d3.get(2))"
   ]
  },
  {
   "cell_type": "code",
   "execution_count": 25,
   "id": "3f99dca1-2f88-46d5-9350-9f23bd7364d9",
   "metadata": {},
   "outputs": [
    {
     "name": "stdout",
     "output_type": "stream",
     "text": [
      "{'Name': 'Asif', 'ID': 74123, 'DOB': 1992, 'job': 'Analyst', 1: (1+2j), 2: 'string', 3: True, 4: 58, 5: 89.32}\n",
      "{'Name': 'Asif', 'ID': 74123, 'DOB': 1992, 'job': 'Analyst', 1: (1+2j), 2: 'string', 3: True, 4: 58, 5: 89.32, 'Address': 'Hyderabad'}\n",
      "{'DOB': 1992, 'job': 'Analyst', 1: (1+2j), 2: 'string', 3: True, 4: 58, 5: 89.32}\n"
     ]
    }
   ],
   "source": [
    "# ADD, Remove and Change items\n",
    "d4={'Name':'Asif' , 'ID': 74123 , 'DOB': 1991 , 'job' :'Analyst' , 1: (1+2j), 2: 'string', 3: True, 4: 58, 5: 89.32}\n",
    "d4['DOB']=1992 # ubdating in dic\n",
    "d4.update(d4)\n",
    "print(d4)\n",
    "d4['Address']='Hyderabad' # adding elemet to dic\n",
    "print(d4)\n",
    "d4.pop('Name')# pop expected at least 1 argument\n",
    "d4.popitem() # popitem remove random element in dic\n",
    "del(d4['ID']) # removing elemet Id using clear method\n",
    "print(d4)"
   ]
  },
  {
   "cell_type": "code",
   "execution_count": 27,
   "id": "395d31f1-9b8f-4474-9220-1b303289c023",
   "metadata": {},
   "outputs": [
    {
     "ename": "NameError",
     "evalue": "name 'd4' is not defined",
     "output_type": "error",
     "traceback": [
      "\u001b[1;31m---------------------------------------------------------------------------\u001b[0m",
      "\u001b[1;31mNameError\u001b[0m                                 Traceback (most recent call last)",
      "Cell \u001b[1;32mIn[27], line 1\u001b[0m\n\u001b[1;32m----> 1\u001b[0m \u001b[38;5;28;01mdel\u001b[39;00m d4 \u001b[38;5;66;03m# deleting dec \u001b[39;00m\n\u001b[0;32m      2\u001b[0m \u001b[38;5;28mprint\u001b[39m(d4)\n",
      "\u001b[1;31mNameError\u001b[0m: name 'd4' is not defined"
     ]
    }
   ],
   "source": [
    "del d4 # deleting dec \n",
    "print(d4)"
   ]
  },
  {
   "cell_type": "code",
   "execution_count": null,
   "id": "23e5a876-3ee8-42cc-a899-63c35f1678cb",
   "metadata": {},
   "outputs": [],
   "source": [
    "#copy Dictionary"
   ]
  },
  {
   "cell_type": "code",
   "execution_count": 39,
   "id": "072edb38-ad41-44c5-a205-4983fb33dad2",
   "metadata": {},
   "outputs": [
    {
     "name": "stdout",
     "output_type": "stream",
     "text": [
      "{'Name': 'Asif', 'ID': 74123, 'DOB': 1991, 'job': 'Analyst'}\n",
      "2729859037120 2729859037120\n",
      "2729859030528 2729859037120\n",
      "{'Name': 'Asif', 'ID': 74123, 'DOB': 1991, 'job': 'Analyst', 'Add': 'Hyderabad'}\n",
      "{'Name': 'Asif', 'ID': 74123, 'DOB': 1991, 'job': 'Analyst', 'Add': 'Hyderabad'}\n",
      "{'Name': 'Asif', 'ID': 74123, 'DOB': 1991, 'job': 'Analyst'}\n"
     ]
    }
   ],
   "source": [
    "d4={'Name':'Asif' , 'ID': 74123 , 'DOB': 1991 , 'job' :'Analyst'}\n",
    "d5=d4 # creating new reference \"d5\"\n",
    "print(d5)\n",
    "print(id(d4), id(d5)) # the address of the both dic address are same\n",
    "d6=d4.copy() # copy the d4 to d6\n",
    "print(id(d6),id(d4)) # the address of the dic's are different\n",
    "d4['Add']='Hyderabad'\n",
    "print(d4)\n",
    "print(d5) # d5 will be also impacted as it is pointing to the same dictionary\n",
    "print(d6) # Copy of list won't be impacted due to the changes made in the original"
   ]
  },
  {
   "cell_type": "code",
   "execution_count": 44,
   "id": "ea4e0a65-9570-447c-a10c-877c7b9a7a3d",
   "metadata": {},
   "outputs": [
    {
     "name": "stdout",
     "output_type": "stream",
     "text": [
      "Name\n",
      "ID\n",
      "DOB\n",
      "job\n",
      "Add\n",
      "Name : Asif\n",
      "ID : 74123\n",
      "DOB : 1991\n",
      "job : Analyst\n",
      "Add : Hyderabad\n",
      "Asif\n",
      "74123\n",
      "1991\n",
      "Analyst\n",
      "Hyderabad\n"
     ]
    }
   ],
   "source": [
    "# loop through a Dictionary\n",
    "d1={'Name': 'Asif', 'ID': 74123, 'DOB': 1991, 'job': 'Analyst', 'Add': 'Hyderabad'}\n",
    "for i in d1:\n",
    "    print(i ) # here only key values are displayed\n",
    "for i in d1:\n",
    "    print(i, ':' , d1[i]) # displayed key and  values\n",
    "for i in d1:\n",
    "    print(d1[i]) # only values are printed"
   ]
  },
  {
   "cell_type": "code",
   "execution_count": 49,
   "id": "6330425a-bb2d-4147-8ecd-86ee9e156315",
   "metadata": {},
   "outputs": [
    {
     "data": {
      "text/plain": [
       "True"
      ]
     },
     "execution_count": 49,
     "metadata": {},
     "output_type": "execute_result"
    }
   ],
   "source": [
    "# Membership\n",
    "d1={'Name':'Asif' , 'ID': 74123 , 'DOB': 1991 , 'job' :'Analyst'}\n",
    "'Name' in d1  # Test if a key is in a dictionary or not."
   ]
  },
  {
   "cell_type": "code",
   "execution_count": 48,
   "id": "4409c7b0-8a6a-45de-8804-11e3d6f79a4d",
   "metadata": {},
   "outputs": [
    {
     "data": {
      "text/plain": [
       "False"
      ]
     },
     "execution_count": 48,
     "metadata": {},
     "output_type": "execute_result"
    }
   ],
   "source": [
    "'Asif' in d1 # Membership test can be only done for keys. "
   ]
  },
  {
   "cell_type": "code",
   "execution_count": 58,
   "id": "db1324d7-8af6-434e-8ece-ba36e72176c7",
   "metadata": {},
   "outputs": [
    {
     "data": {
      "text/plain": [
       "True"
      ]
     },
     "execution_count": 58,
     "metadata": {},
     "output_type": "execute_result"
    }
   ],
   "source": [
    "# All / Any\n",
    "d1={'Name':'Asif' , 'ID': 74123 , 'DOB': 1991 , 'job' :'Analyst'}\n",
    "all(d1) # Will Return false as one value is false (Value 0)"
   ]
  },
  {
   "cell_type": "code",
   "execution_count": null,
   "id": "ff537716-504c-4059-9c8c-5075ff2cffa5",
   "metadata": {},
   "outputs": [],
   "source": []
  }
 ],
 "metadata": {
  "kernelspec": {
   "display_name": "Python 3 (ipykernel)",
   "language": "python",
   "name": "python3"
  },
  "language_info": {
   "codemirror_mode": {
    "name": "ipython",
    "version": 3
   },
   "file_extension": ".py",
   "mimetype": "text/x-python",
   "name": "python",
   "nbconvert_exporter": "python",
   "pygments_lexer": "ipython3",
   "version": "3.12.7"
  },
  "panel-cell-order": [
   "8f71a272-a621-4a9f-ad0d-bab68ea5ffaa",
   "f9947187-a6ac-4396-b6d0-be4e8a19ec4b"
  ]
 },
 "nbformat": 4,
 "nbformat_minor": 5
}
