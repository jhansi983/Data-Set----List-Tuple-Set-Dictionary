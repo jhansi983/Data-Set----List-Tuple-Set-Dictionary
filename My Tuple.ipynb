{
 "cells": [
  {
   "cell_type": "code",
   "execution_count": null,
   "id": "f168bc49-81dd-4e14-a8cb-b5cb700820a1",
   "metadata": {},
   "outputs": [],
   "source": [
    "# Tuple is ordered collection of elements \n",
    "#it is immutable\n",
    "#but tuple can allow duplicate values"
   ]
  },
  {
   "cell_type": "code",
   "execution_count": 3,
   "id": "e5302dbc-5786-40c6-bc81-f71f6f5e3788",
   "metadata": {},
   "outputs": [
    {
     "name": "stdout",
     "output_type": "stream",
     "text": [
      "()\n",
      "()\n"
     ]
    }
   ],
   "source": [
    "#creating empty list\n",
    "t1=()\n",
    "print(t1)\n",
    "t2= tuple()\n",
    "print(t2)"
   ]
  },
  {
   "cell_type": "code",
   "execution_count": 6,
   "id": "f9a2b4b3-a507-4a12-95b8-ca0e7cf968b1",
   "metadata": {},
   "outputs": [
    {
     "name": "stdout",
     "output_type": "stream",
     "text": [
      "0\n",
      "<class 'tuple'>\n",
      "140704590349344\n"
     ]
    }
   ],
   "source": [
    "# finding length, type and id of the Tuple\n",
    "print(len(t1))\n",
    "print(type(t1))\n",
    "print(id(t1))"
   ]
  },
  {
   "cell_type": "code",
   "execution_count": 13,
   "id": "8fa6b024-3e18-4cc8-a9ce-d490879bcb53",
   "metadata": {},
   "outputs": [
    {
     "data": {
      "text/plain": [
       "(10, 20, 50, 3, 0, 20, 1, 4, 0, 4, 3, 10, 60)"
      ]
     },
     "execution_count": 13,
     "metadata": {},
     "output_type": "execute_result"
    }
   ],
   "source": [
    "# adding elements or values to the list\n",
    "# we can give elements directli\n",
    "t1=(10,20,50,3,0,20,1,4,0,4,3,10, 60)\n",
    "t1"
   ]
  },
  {
   "cell_type": "code",
   "execution_count": 14,
   "id": "0c029861-72ac-4429-a6ee-c41715b27758",
   "metadata": {},
   "outputs": [
    {
     "name": "stdout",
     "output_type": "stream",
     "text": [
      "10\n"
     ]
    },
    {
     "data": {
      "text/plain": [
       "60"
      ]
     },
     "execution_count": 14,
     "metadata": {},
     "output_type": "execute_result"
    }
   ],
   "source": [
    "# Accesing elements by using index and nagative index\n",
    "print(t1[0])\n",
    "t1[-1]"
   ]
  },
  {
   "cell_type": "code",
   "execution_count": 16,
   "id": "bf8a64ad-7aad-44b9-9d33-961d4f257f69",
   "metadata": {},
   "outputs": [
    {
     "name": "stdout",
     "output_type": "stream",
     "text": [
      "(10, 20, 50, 3, 0, 20, 1, 4, 0, 4, 3, 10, 60)\n",
      "(10, 20, 50, 3, 0)\n",
      "(50, 3, 0, 20, 1)\n",
      "(0, 20, 1, 4, 0, 4, 3, 10, 60)\n",
      "(10, 20, 50, 3, 0, 20, 1, 4, 0, 4, 3, 10)\n",
      "(4, 3, 10)\n"
     ]
    }
   ],
   "source": [
    "#Sclising the list\n",
    "#Single scling\n",
    "print(t1[:]) # single sclising returns all values in list\n",
    "print(t1[:5]) # index starts from 0 upto 4 index values displayed\n",
    "print(t1[2:7]) #index starts from 2 to 6 index values displayed\n",
    "print(t1[4:]) #index starts from 4 to last value\n",
    "print(t1[:-1]) # returns all the values in the list\n",
    "print(t1[-4:-1]) # starts from -4th index= 40 upto -2 (n-1=-1-1=-2) values printed (right index starts from -1)"
   ]
  },
  {
   "cell_type": "code",
   "execution_count": 17,
   "id": "17bb7664-d6d8-493a-98bb-5bdfa49d114d",
   "metadata": {},
   "outputs": [
    {
     "name": "stdout",
     "output_type": "stream",
     "text": [
      "(10, 20, 50, 3, 0, 20, 1, 4, 0, 4, 3, 10, 60)\n",
      "(10, 20, 50, 3, 0)\n",
      "(50, 3, 0, 20, 1)\n",
      "(0, 20, 1, 4, 0, 4, 3, 10, 60)\n",
      "(10, 20, 50, 3, 0, 20, 1, 4, 0, 4, 3, 10)\n",
      "(4, 3, 10)\n"
     ]
    }
   ],
   "source": [
    "#Double scling\n",
    "print(t1[:]) # single sclising returns all values in list\n",
    "print(t1[:5]) # index starts from 0 upto 4 index values displayed\n",
    "print(t1[2:7]) #index starts from 2 to 6 index values displayed\n",
    "print(t1[4:]) #index starts from 4 to last value\n",
    "print(t1[:-1]) # returns all the values in the list\n",
    "print(t1[-4:-1]) # starts from -4th index= 40 upto -2 (n-1=-1-1=-2) values printed (right index starts from -1)"
   ]
  },
  {
   "cell_type": "code",
   "execution_count": 18,
   "id": "d5a0b2db-64d8-43d2-a6c0-82bf01980fb3",
   "metadata": {},
   "outputs": [
    {
     "name": "stdout",
     "output_type": "stream",
     "text": [
      "(10, 50, 0)\n",
      "(50, 0, 1)\n",
      "(3, 20, 4, 4)\n"
     ]
    }
   ],
   "source": [
    "#step counting\n",
    "print(t1[0:5:2]) # here starting index is 0 and ending index is 5-1=4 every 2 indexed the value is displayed\n",
    "print(t1[2:8:2]) # here starting index is 2 last index is 8-=7 every index is devided by 2\n",
    "print(t1[3:-3:2])"
   ]
  },
  {
   "cell_type": "code",
   "execution_count": null,
   "id": "9de96333-ae9a-43f1-a982-127116ca5a41",
   "metadata": {},
   "outputs": [],
   "source": [
    "# Modifing lists"
   ]
  },
  {
   "cell_type": "code",
   "execution_count": null,
   "id": "e0955014-6edb-46b8-9b29-563cca2e2dad",
   "metadata": {},
   "outputs": [],
   "source": [
    "# 1.changing the list value"
   ]
  },
  {
   "cell_type": "code",
   "execution_count": 19,
   "id": "68ccb0ef-993a-43e1-9f2c-115ce2ae9040",
   "metadata": {},
   "outputs": [
    {
     "ename": "TypeError",
     "evalue": "'tuple' object does not support item assignment",
     "output_type": "error",
     "traceback": [
      "\u001b[1;31m---------------------------------------------------------------------------\u001b[0m",
      "\u001b[1;31mTypeError\u001b[0m                                 Traceback (most recent call last)",
      "Cell \u001b[1;32mIn[19], line 2\u001b[0m\n\u001b[0;32m      1\u001b[0m \u001b[38;5;66;03m# Indexing--changing the list value\u001b[39;00m\n\u001b[1;32m----> 2\u001b[0m t1[\u001b[38;5;241m0\u001b[39m]\u001b[38;5;241m=\u001b[39m \u001b[38;5;241m200\u001b[39m \u001b[38;5;66;03m# here index of 0 value is changed (10 to 200)\u001b[39;00m\n\u001b[0;32m      3\u001b[0m t1\n",
      "\u001b[1;31mTypeError\u001b[0m: 'tuple' object does not support item assignment"
     ]
    }
   ],
   "source": [
    "# Indexing--changing the list value \n",
    "# tuple is imutable, it can not allow indexing\n",
    "t1[0]= 200 # here index of 0 value is changed (10 to 200) \n",
    "t1"
   ]
  },
  {
   "cell_type": "code",
   "execution_count": null,
   "id": "045cbe9d-bf9d-4ae3-b077-a17f7592a58e",
   "metadata": {},
   "outputs": [],
   "source": [
    "# 2.Adding Elements to list\n",
    "# tuple can not allow to add elements because it is immutable"
   ]
  },
  {
   "cell_type": "code",
   "execution_count": null,
   "id": "67bd9b64-f2f9-4781-ac9a-1665b0a35703",
   "metadata": {},
   "outputs": [],
   "source": [
    "# Concatenating and Repeating Tuples"
   ]
  },
  {
   "cell_type": "code",
   "execution_count": 48,
   "id": "61f46c0e-a79b-43cf-9f6c-2cef9236a9fa",
   "metadata": {},
   "outputs": [
    {
     "name": "stdout",
     "output_type": "stream",
     "text": [
      "(10, 20, 50, 3, 0, 20, 1, 4, 0, 4, 3, 10, 60, 4, 5, 4, 5, 4, 5, 4, 5, 4, 5, 4, 5, 5.6, 7.8, 'One', 'Two', True, (1+2j))\n",
      "(10, 20, 50, 3, 0, 20, 1, 4, 0, 4, 3, 10, 60, 4, 5, 4, 5, 4, 5, 4, 5, 4, 5, 4, 5, 4, 5)\n",
      "(5.6, 7.8, 'One', 'Two', True, (1+2j), 50)\n"
     ]
    }
   ],
   "source": [
    "# Tuples can be concatenated\n",
    "t2=(5.6, 7.8, \"One\", \"Two\", True, 1+2j) # tuple ellow all data type value \n",
    "print(t1+t2)\n",
    "t1+=(4,5) # concatenating the table it self using += operator\n",
    "print(t1)\n",
    "# tuple convert to a list and add elements and covert to a tuple\n",
    "l1=[]\n",
    "l1=list(t2)\n",
    "l1.append(50)\n",
    "t3=tuple()\n",
    "t3=tuple(l1)\n",
    "print(t3)"
   ]
  },
  {
   "cell_type": "code",
   "execution_count": 23,
   "id": "708fec29-f6a4-41a8-8c4b-386f22839f6f",
   "metadata": {},
   "outputs": [
    {
     "name": "stdout",
     "output_type": "stream",
     "text": [
      "(10, 20, 50, 3, 0, 20, 1, 4, 0, 4, 3, 10, 60, 10, 20, 50, 3, 0, 20, 1, 4, 0, 4, 3, 10, 60, 10, 20, 50, 3, 0, 20, 1, 4, 0, 4, 3, 10, 60)\n"
     ]
    }
   ],
   "source": [
    "# repitation\n",
    "print(t1*3)"
   ]
  },
  {
   "cell_type": "code",
   "execution_count": 25,
   "id": "101fbb0c-9372-4436-96ea-5c6094e849bd",
   "metadata": {},
   "outputs": [
    {
     "name": "stdout",
     "output_type": "stream",
     "text": [
      "10\n",
      "20\n",
      "50\n",
      "3\n",
      "0\n",
      "20\n",
      "1\n",
      "4\n",
      "0\n",
      "4\n",
      "3\n",
      "10\n",
      "60\n"
     ]
    }
   ],
   "source": [
    "# Itterations\n",
    "for i in t1:\n",
    "    print(i)"
   ]
  },
  {
   "cell_type": "code",
   "execution_count": 27,
   "id": "6312f654-ab33-4fce-a318-60ac617e1a14",
   "metadata": {},
   "outputs": [
    {
     "name": "stdout",
     "output_type": "stream",
     "text": [
      "(0, 10)\n",
      "(1, 20)\n",
      "(2, 50)\n",
      "(3, 3)\n",
      "(4, 0)\n",
      "(5, 20)\n",
      "(6, 1)\n",
      "(7, 4)\n",
      "(8, 0)\n",
      "(9, 4)\n",
      "(10, 3)\n",
      "(11, 10)\n",
      "(12, 60)\n"
     ]
    }
   ],
   "source": [
    "for i in enumerate(t1):\n",
    "    print(i)"
   ]
  },
  {
   "cell_type": "code",
   "execution_count": null,
   "id": "5732c74d-46ff-4e67-ac0a-5dab1039233b",
   "metadata": {},
   "outputs": [],
   "source": [
    "# 5 Built in functions"
   ]
  },
  {
   "cell_type": "code",
   "execution_count": 28,
   "id": "8fa3ddab-251a-487b-8a30-ea0b9507f1fa",
   "metadata": {},
   "outputs": [
    {
     "data": {
      "text/plain": [
       "2"
      ]
     },
     "execution_count": 28,
     "metadata": {},
     "output_type": "execute_result"
    }
   ],
   "source": [
    "# count\n",
    "t1.count(10)"
   ]
  },
  {
   "cell_type": "code",
   "execution_count": 33,
   "id": "0caa6735-2955-4874-a6ae-a4a299bf54d3",
   "metadata": {},
   "outputs": [
    {
     "data": {
      "text/plain": [
       "4"
      ]
     },
     "execution_count": 33,
     "metadata": {},
     "output_type": "execute_result"
    }
   ],
   "source": [
    "# index\n",
    "t1.index(0) # if tuple had duplicate values then index gives 1st iteration value index"
   ]
  },
  {
   "cell_type": "code",
   "execution_count": 35,
   "id": "f7145351-c715-4f23-b1c1-052ebd03b19e",
   "metadata": {},
   "outputs": [
    {
     "data": {
      "text/plain": [
       "0"
      ]
     },
     "execution_count": 35,
     "metadata": {},
     "output_type": "execute_result"
    }
   ],
   "source": [
    "min(t1)"
   ]
  },
  {
   "cell_type": "code",
   "execution_count": 37,
   "id": "ba165d98-6fff-47b6-844a-1f9313af9114",
   "metadata": {},
   "outputs": [
    {
     "data": {
      "text/plain": [
       "60"
      ]
     },
     "execution_count": 37,
     "metadata": {},
     "output_type": "execute_result"
    }
   ],
   "source": [
    "max(t1)"
   ]
  },
  {
   "cell_type": "code",
   "execution_count": 38,
   "id": "60a5df6c-3684-4513-a910-6c81a817c64f",
   "metadata": {},
   "outputs": [
    {
     "data": {
      "text/plain": [
       "13"
      ]
     },
     "execution_count": 38,
     "metadata": {},
     "output_type": "execute_result"
    }
   ],
   "source": [
    "len(t1)"
   ]
  },
  {
   "cell_type": "code",
   "execution_count": 39,
   "id": "242fae92-3268-4017-8df9-938133d11fbf",
   "metadata": {},
   "outputs": [
    {
     "data": {
      "text/plain": [
       "185"
      ]
     },
     "execution_count": 39,
     "metadata": {},
     "output_type": "execute_result"
    }
   ],
   "source": [
    "sum(t1)"
   ]
  },
  {
   "cell_type": "code",
   "execution_count": 40,
   "id": "a1d0f03d-067c-4b39-8032-aba106fbe803",
   "metadata": {},
   "outputs": [
    {
     "name": "stdout",
     "output_type": "stream",
     "text": [
      "True\n",
      "True\n",
      "False\n",
      "True\n"
     ]
    }
   ],
   "source": [
    "# membership testing\n",
    "# in or not in\n",
    "# valu in or not in Tuple ex: 5 in li1 directly we can write if it is single calling\n",
    "d=10 in t1        # 54 value is in the list (true it is there in list)\n",
    "print(d)\n",
    "a=82 not in t1    # 89 value not in the list ( true it is not there)\n",
    "print(a)\n",
    "b=99 in t1        # this is not there (False)\n",
    "print(b)\n",
    "c=23 not in t1     # This number is in the list (False)\n",
    "print(c)"
   ]
  },
  {
   "cell_type": "code",
   "execution_count": 49,
   "id": "9eb0b7b4-95a7-4beb-beb7-0a7d284cb1f3",
   "metadata": {},
   "outputs": [
    {
     "name": "stdout",
     "output_type": "stream",
     "text": [
      "n\n",
      "i\n",
      "t\n"
     ]
    },
    {
     "ename": "IndexError",
     "evalue": "string index out of range",
     "output_type": "error",
     "traceback": [
      "\u001b[1;31m---------------------------------------------------------------------------\u001b[0m",
      "\u001b[1;31mIndexError\u001b[0m                                Traceback (most recent call last)",
      "Cell \u001b[1;32mIn[49], line 6\u001b[0m\n\u001b[0;32m      4\u001b[0m \u001b[38;5;28mprint\u001b[39m(t1[\u001b[38;5;241m1\u001b[39m][\u001b[38;5;241m1\u001b[39m])\n\u001b[0;32m      5\u001b[0m \u001b[38;5;28mprint\u001b[39m(t1[\u001b[38;5;241m1\u001b[39m][\u001b[38;5;241m2\u001b[39m])\n\u001b[1;32m----> 6\u001b[0m \u001b[38;5;28mprint\u001b[39m(t1[\u001b[38;5;241m1\u001b[39m][\u001b[38;5;241m3\u001b[39m])\n",
      "\u001b[1;31mIndexError\u001b[0m: string index out of range"
     ]
    }
   ],
   "source": [
    "# nested indexing also allowed listprint\n",
    "t1=(10,'nit',56,True)\n",
    "print(t1[1][0])\n",
    "print(t1[1][1])\n",
    "print(t1[1][2])\n",
    "print(t1[1][3]) # Index error : value out of range 4 "
   ]
  },
  {
   "cell_type": "code",
   "execution_count": 59,
   "id": "286da7f2-d4f3-4710-99ac-9e60185e446e",
   "metadata": {},
   "outputs": [
    {
     "name": "stdout",
     "output_type": "stream",
     "text": [
      "10\n",
      "20\n",
      "30\n"
     ]
    }
   ],
   "source": [
    "# Unpacking the tuple into variables\n",
    "t2= (10,20,30)\n",
    "a,b,c=t2\n",
    "print(a)\n",
    "print(b)\n",
    "print(c)"
   ]
  },
  {
   "cell_type": "code",
   "execution_count": 63,
   "id": "70176f2d-3c1c-4fbd-a9f6-3bef0c83d389",
   "metadata": {},
   "outputs": [
    {
     "name": "stdout",
     "output_type": "stream",
     "text": [
      "10\n",
      "20\n",
      "30 40 50 60\n"
     ]
    }
   ],
   "source": [
    "#Tuple Unpacking with Extra Elements\n",
    "t3=(10,20,30,40,50,60)\n",
    "a,b,*res=t3\n",
    "print(a)\n",
    "print(b)\n",
    "print(*res)"
   ]
  },
  {
   "cell_type": "code",
   "execution_count": null,
   "id": "ce06d5d9-f781-4383-86a7-fe33ddaa3a1a",
   "metadata": {},
   "outputs": [],
   "source": []
  }
 ],
 "metadata": {
  "kernelspec": {
   "display_name": "Python 3 (ipykernel)",
   "language": "python",
   "name": "python3"
  },
  "language_info": {
   "codemirror_mode": {
    "name": "ipython",
    "version": 3
   },
   "file_extension": ".py",
   "mimetype": "text/x-python",
   "name": "python",
   "nbconvert_exporter": "python",
   "pygments_lexer": "ipython3",
   "version": "3.12.7"
  }
 },
 "nbformat": 4,
 "nbformat_minor": 5
}
